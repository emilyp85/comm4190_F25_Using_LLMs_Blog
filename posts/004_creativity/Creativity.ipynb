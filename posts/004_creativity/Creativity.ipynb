{
 "cells": [
  {
   "cell_type": "raw",
   "id": "1bc56bc6-974d-41fd-93be-5c6f5bed7119",
   "metadata": {},
   "source": [
    "---\n",
    "title: \"The Limits of AI Creativity”\n",
    "description: \"Give examples of LLM-generated creative writing and compare it to human work.\"\n",
    "author: \"Emily\"\n",
    "date: \"9/9/2025\"\n",
    "categories:\n",
    "  - LLMs\n",
    "  - Learning\n",
    "---"
   ]
  },
  {
   "cell_type": "markdown",
   "id": "1db03d2e-7f96-488e-a46f-54047bf17cfb",
   "metadata": {},
   "source": [
    "# What AI Does Well\n",
    "They are trained through textual analysis. Doing so allows them to reproduce familiar structures with ease. AI is also tireless -- it doesn't get writer's block or need inspiration -- it just generates continuously until the user find something they like. Even during brainstorming sessions, this can feel somewhat magicial -- ideas flow instantly and allows the user to explore directions they might not have considered on their own."
   ]
  },
  {
   "cell_type": "markdown",
   "id": "9bd1956b-8298-46b5-8c70-75416dd04559",
   "metadata": {},
   "source": [
    "# Where the Limits Show\n",
    "But when it comes to originality, AI's creative edge dulls. Because LLMs don't create from lived experience, emotional depth, or a true understanding of context, they are unable to generate creative or original experiences. That is why they generate based on patterns in their training data.\n",
    "\n",
    "Another limitation is coherence across long works. Sustaining a novel-length text usually exposes weaknesses: repetitive phrasing and plotlines without purpose."
   ]
  },
  {
   "cell_type": "markdown",
   "id": "9724b137-392f-40ae-afef-b1a2675ad955",
   "metadata": {},
   "source": [
    "# Why It Matters\n",
    "LLMs are incredible tools for sparking ideas, drafting first versions, or even playing or experimenting with language. But the \"soul\" of creativity that is rooted in perspective and genuine insight still belongs to humans."
   ]
  },
  {
   "cell_type": "markdown",
   "id": "9f449b16-b68e-4db5-bab6-c5ec9ba45ce2",
   "metadata": {},
   "source": [
    "This is an example that ChatGPT generated when prompted:\n",
    "\n",
    "![](AI_Creativity.png)\n",
    "\n",
    "However, as evidently shown by this AI-generated picture, there is not a significant difference.\n",
    "\n",
    "So, what does this tell us about **AI's creativity** and humans' **genuine creativity?** Can creativity truly be replicated? If so, what does this tell us about the future of humanity?"
   ]
  },
  {
   "cell_type": "markdown",
   "id": "84ec1394-4960-4e9b-8e87-93e0ed3adda8",
   "metadata": {},
   "source": [
    "---"
   ]
  },
  {
   "cell_type": "markdown",
   "id": "82c975c5-f7bb-41ae-b78a-78ae9e431228",
   "metadata": {},
   "source": [
    "First of all, what is the difference between artifical creativity and genuine creativity? This is what ChatGPT said:\n",
    "\n",
    "![](creativity.png)\n",
    "\n",
    "**Do you agree with it?**\n",
    "\n",
    "Second, when asked if creativity can be replicated, this is what ChatGPT said:\n",
    "\n",
    "![](definition.png)\n",
    "\n",
    "My opinion is that creativity is objectively subjective. While the path that humanity will walk alongside with artificial intelligence is still obscure, it is safe to tell that AI will never fully replace the human impulse to create, but will inevitably reshape how we deifne and practice creativity. Machines can generate works that surprise and delight us but the meaning we attach to those works—and the emotional depth that inspires them—remains uniquely human.\n",
    "\n",
    "**The future, then, is not a contest between artificial and genuine creativity, but a collaboration that forces us to rethink what it means to make something truly original.**"
   ]
  },
  {
   "cell_type": "code",
   "execution_count": null,
   "id": "534c9725-c239-4d20-9f69-6c43b2d03702",
   "metadata": {},
   "outputs": [],
   "source": []
  }
 ],
 "metadata": {
  "kernelspec": {
   "display_name": "Python 3-12 (COMM4190)",
   "language": "python",
   "name": "python3-12_comm4190"
  },
  "language_info": {
   "codemirror_mode": {
    "name": "ipython",
    "version": 3
   },
   "file_extension": ".py",
   "mimetype": "text/x-python",
   "name": "python",
   "nbconvert_exporter": "python",
   "pygments_lexer": "ipython3",
   "version": "3.12.11"
  }
 },
 "nbformat": 4,
 "nbformat_minor": 5
}
