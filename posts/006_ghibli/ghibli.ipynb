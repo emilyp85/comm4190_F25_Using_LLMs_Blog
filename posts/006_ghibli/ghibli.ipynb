{
 "cells": [
  {
   "cell_type": "raw",
   "id": "6c6fa663-f8de-4579-a473-238399bc62a7",
   "metadata": {},
   "source": [
    "---\n",
    "title: \"Artwork with ChatGPT\"\n",
    "description: \"Turning my headshot into a Studio Ghibli artwork\" \n",
    "author: \"Emily\"\n",
    "date: \"9/16/2025\"\n",
    "categories:\n",
    "  - LLMs\n",
    "  - Learning\n",
    "---"
   ]
  },
  {
   "cell_type": "markdown",
   "id": "e65003bf-81c0-4c30-b4c2-d1576a165dd8",
   "metadata": {},
   "source": [
    "Like many people, I have a professional headshot — clean, simple, a little serious. But I wondered: *what if I could see myself reimagined in totally different art styles?*\n",
    "\n",
    "So I tried it.\n",
    "\n",
    "# Studio Ghibli Me\n",
    "I decided I want to turn my headshot into a **Studio Ghibli** version. For reference, these are the anime movies that [Studio Ghibli](https://www.imdb.com/list/ls066662290/) makes. I uploaded this picture:\n",
    "\n",
    "<img src=\"Emily_Headshot.png\" width=\"300\"/>\n",
    "\n",
    "This was the command:\n",
    "\n",
    "```\n",
    "Can you turn my headshot into a Studio Ghibli version?\n",
    "```\n",
    "This was the picture I received:\n",
    "\n",
    "<img src=\"ghibli.png\" width=\"300\"/>\n",
    "\n",
    "\n",
    "Suddenly, I look like I belong in *Spirited Away* or *Howl’s Moving Castle*.\n",
    "\n",
    "# Bratz Me\n",
    "Then, I got curious and inspired. What about other artstyles?\n",
    "\n",
    "I entered this command:\n",
    "```\n",
    "What about in Bratz's style?\n",
    "```\n",
    "\n",
    "[*Bratz*](https://www.bratz.com/?srsltid=AfmBOoo_M9J3USZJzpwHMhHSCXRpyLW7xzcRdFrsSnwn7SMPGk_I32fy) is an American fashion doll and media franchise that got popularized in the early 2000s.\n",
    "\n",
    "<img src=\"bratz.png\" width=\"300\"/>\n",
    "\n",
    "I have the oversized eyes, glossy lips, and playful look straight out of a 2000s toy commercial.\n",
    "\n",
    "# More, More, More!\n",
    "Once I started, it was hard to stop imagining possibilities:\n",
    "\n",
    "* Disney Princess style\n",
    "* Anime shōnen hero\n",
    "* Barbie doll style\n",
    "* Picasso cubism portrait\n",
    "* Video game avatar\n",
    "\n",
    "I especially wanted to try the last one. \n",
    "```\n",
    "Can you make me into a video game avatar?\n",
    "```\n",
    "This is what I got:\n",
    "\n",
    "<img src=\"video_game_character.png\" width=\"300\"/>\n",
    "\n",
    "It's so cute and definitely more realistic than the previous ones ChatGPT created! Maybe I'll upload this picture onto Instagram...\n",
    "\n",
    "What other styles should I try next?"
   ]
  }
 ],
 "metadata": {
  "kernelspec": {
   "display_name": "Python 3-12 (COMM4190)",
   "language": "python",
   "name": "python3-12_comm4190"
  },
  "language_info": {
   "codemirror_mode": {
    "name": "ipython",
    "version": 3
   },
   "file_extension": ".py",
   "mimetype": "text/x-python",
   "name": "python",
   "nbconvert_exporter": "python",
   "pygments_lexer": "ipython3",
   "version": "3.12.11"
  }
 },
 "nbformat": 4,
 "nbformat_minor": 5
}
