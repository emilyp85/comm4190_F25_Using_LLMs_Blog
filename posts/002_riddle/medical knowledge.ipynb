{
 "cells": [
  {
   "cell_type": "raw",
   "id": "9d5390a3-93ad-4167-b5c2-319286aa8392",
   "metadata": {},
   "source": [
    "---\n",
    "title: \"Give me a riddle from ChatGPT\"\n",
    "description: \"Can you guess the answer?\" \n",
    "author: \"Emily\"\n",
    "date: \"9/3/2025\"\n",
    "categories:\n",
    "  - LLMs\n",
    "  - Learning\n",
    "---"
   ]
  },
  {
   "cell_type": "markdown",
   "id": "9c1f0fb6-ce6c-4b3d-8745-505b81763b08",
   "metadata": {},
   "source": [
    "**The prompt I asked ChatGPT is to \"give me a riddle.\" This is what it said:**\n",
    "\n",
    "I speak without a mouth,\n",
    "and hear without ears.\n",
    "I have no body,\n",
    "but I come alive with the wind.\n",
    "\n",
    "What am I?\n",
    "\n",
    "*Can you guess it?*\n",
    "\n",
    "![](chatgpt_1.png)\n",
    "\n",
    "**I guessed a windchime because a friend thought that the answer was a windchime. :(**\n",
    "\n",
    "---"
   ]
  },
  {
   "cell_type": "markdown",
   "id": "05e73c3a-ebad-402f-98a5-301a443518fa",
   "metadata": {},
   "source": [
    "**Here is another one:**\n",
    "\n",
    "The more you take from me,\n",
    "the bigger I get.\n",
    "\n",
    "What am I?\n",
    "\n",
    "*Can you guess it?*\n",
    "\n",
    "![](chatgpt_2.png)\n",
    "\n",
    "**I guessed a hole and this time, I got it right! Good job, me!**"
   ]
  },
  {
   "cell_type": "markdown",
   "id": "b1f2c97e-03fe-4dc2-aab5-a6655abb5cbb",
   "metadata": {},
   "source": [
    "---\n",
    "## What I learned from this experience\n",
    "\n",
    "I learned that ChatGPT is very smart and that LLM is a very complex machine. There are infinite possibilities and that I can continue asking ChatGPT to give me more riddles, and I doubt it will run out of them. \n",
    "\n",
    "I also learned how to code using Markdown.\n",
    "\n",
    "Overall, I learned:\n",
    "\n",
    "* Pattern recognition: I practiced looking past the literal and finding answers that fit abstract clues.\n",
    "* Creative thinking: I considered multiple interpretations (like “windchime” vs. “echo”) and stretched my imagination.\n",
    "* Confidence building: I solved the second riddle correctly — showing that trusting my reasoning can pay off.\n",
    "* Playful problem-solving: I engaged with something fun that also sharpened my mind’s flexibility."
   ]
  }
 ],
 "metadata": {
  "kernelspec": {
   "display_name": "Python 3-12 (COMM4190)",
   "language": "python",
   "name": "python3-12_comm4190"
  },
  "language_info": {
   "codemirror_mode": {
    "name": "ipython",
    "version": 3
   },
   "file_extension": ".py",
   "mimetype": "text/x-python",
   "name": "python",
   "nbconvert_exporter": "python",
   "pygments_lexer": "ipython3",
   "version": "3.12.11"
  }
 },
 "nbformat": 4,
 "nbformat_minor": 5
}
