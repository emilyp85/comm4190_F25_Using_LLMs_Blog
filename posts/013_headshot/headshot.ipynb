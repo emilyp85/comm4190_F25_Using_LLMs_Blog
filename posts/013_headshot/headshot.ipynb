{
 "cells": [
  {
   "cell_type": "raw",
   "id": "b22c3909-be1e-42d1-8c69-608f6ae33061",
   "metadata": {},
   "source": [
    "---\n",
    "title: \"Professional Headshot\"\n",
    "description: \"Seeing if ChatGPT can generate a professional headshot for me\"\n",
    "author: \"Emily\"\n",
    "date: \"10/15/2025\"\n",
    "categories:\n",
    "  - LLMs\n",
    "  - Learning\n",
    "  - Professional\n",
    "---"
   ]
  },
  {
   "cell_type": "markdown",
   "id": "80191d64-6cc4-48d7-9f75-2c7dc5176b65",
   "metadata": {},
   "source": [
    "# Introduction\n",
    "I want to see if ChatGPT can generate a professional headshot for me. I will upload a photo of myself onto ChatGPT and see if it can generate a professional headshot for me that I can upload to LinkedIn. Success means that the AI-generated headshot would look very similar to me—almost exactly—and failure would mean otherwise.\n",
    "\n",
    "This is the prompt I will upload to ChatGPT.\n",
    "> Can you generate a professional headshot for me using this image?\n",
    "\n",
    "![](me.JPG)\n",
    "\n",
    "I saw people doing this on social media and all of them were complaining that the headshots weren't really accurate. I will be experimenting and seeing if that is the same case for me as well.\n",
    "\n",
    "# ChatGPT's Response\n",
    "ChatGPT took a long time generating the image but when it finally loaded, the image it gave me was not \"Emily\" but \"Emma\" because who is that?\n",
    "\n",
    "The girl in the image did not look like me at all.\n",
    "\n",
    "![](aiheadshot.png)\n",
    "\n",
    "And honestly, this is giving me a shift in my thoughts on people's perception of me. Do I actually look like that?\n",
    "\n",
    "Due to my disatisfaction, I asked ChatGPT to regenerate a new one.\n",
    "\n",
    "This was its response:\n",
    "\n",
    ">Sure — to make the new headshot look more accurate to you, could you tell me what kind of professional style you want for it (e.g., studio lighting with a plain background, outdoor natural light, or campus background)?\n",
    "Also, would you like to keep your outfit and hairstyle the same as in your original photo, or adjust them a bit (e.g., smoother hair, blazer, different lighting)?\n",
    "\n",
    "This is what I said:\n",
    ">I want a plain background and add a blazer. Keep the hairstyle the same.\n",
    "\n",
    "I didn't trust it with generating Penn's campus as a background. \n",
    "\n",
    "This is what I got:\n",
    "![](new.png)\n",
    "\n",
    "Somehow, I looked worse. If being honest, I think I prefer the first headshot. I am going to stop here because I am getting facial dysmorphia.\n",
    "\n",
    "# Takeaways\n",
    "This experiment showed me the limits of current AI-generated portraits, especially when it comes to personal resemblance. Even with a clear reference photo, ChatGPT’s generated headshots only captured a generic likeness rather than my actual facial features.\n",
    "It also made me think about how AI “interprets” faces. The model doesn’t really “see” me—it produces a composite based on training data that fits its idea of what a professional headshot should look like. That means the output often flattens individuality, favoring conventional beauty standards and symmetry.\n",
    "This reminds me of the current book I am reading, *Unmasking AI*. How does AI analyze faces. What facial features do they focus on or look for? What about hair or outfits? What do they see? I hope to answer these questions in my next blog post.\n",
    "\n",
    "Thanks for reading!"
   ]
  },
  {
   "cell_type": "code",
   "execution_count": null,
   "id": "daea7a23-5db1-42f4-9562-473d08ae277e",
   "metadata": {},
   "outputs": [],
   "source": []
  }
 ],
 "metadata": {
  "kernelspec": {
   "display_name": "Python 3-12 (COMM4190)",
   "language": "python",
   "name": "python3-12_comm4190"
  },
  "language_info": {
   "codemirror_mode": {
    "name": "ipython",
    "version": 3
   },
   "file_extension": ".py",
   "mimetype": "text/x-python",
   "name": "python",
   "nbconvert_exporter": "python",
   "pygments_lexer": "ipython3",
   "version": "3.12.11"
  }
 },
 "nbformat": 4,
 "nbformat_minor": 5
}
