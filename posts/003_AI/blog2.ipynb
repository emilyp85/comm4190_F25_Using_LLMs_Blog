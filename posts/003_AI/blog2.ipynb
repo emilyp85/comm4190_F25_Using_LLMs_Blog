{
 "cells": [
  {
   "cell_type": "raw",
   "id": "42622fd6-0d20-4706-8ccb-3aa2d009c1a1",
   "metadata": {},
   "source": [
    "---\n",
    "title: \"AI as a Mirror\"\n",
    "description: \"What does the way AI speak, behave, and write reveal about us, humans\" \n",
    "author: \"Emily\"\n",
    "date: \"9/8/2025\"\n",
    "categories:\n",
    "  - LLMs\n",
    "  - Learning\n",
    "---"
   ]
  },
  {
   "cell_type": "markdown",
   "id": "9b30140a-fd65-47c0-a14a-353cc0bd8719",
   "metadata": {},
   "source": [
    "## The Origin of AI\n",
    "We often talk about AI as something alien, a perspective that is exaggerated by Hollywood through artificial intelligence world domination. In reality, however, AI is something that originates from us.\n",
    "\n",
    "This blog post will explore this through my conversation with ChatGPT."
   ]
  },
  {
   "cell_type": "markdown",
   "id": "d1d07cfc-5353-4e7b-9c68-e36bcf29cdc4",
   "metadata": {},
   "source": [
    "I asked ChatGPT what it thinks of itself. This is its response."
   ]
  },
  {
   "cell_type": "markdown",
   "id": "d6670ad3-5082-4e64-8f7f-373fb165ca53",
   "metadata": {},
   "source": [
    "![](ChatGPT_response_post2.png)"
   ]
  },
  {
   "cell_type": "markdown",
   "id": "7aea2239-8077-42f0-8aee-1d5140ca8e00",
   "metadata": {},
   "source": [
    "Then, I asked ChatGPT to explain how it worked.\n",
    "\n",
    "It said that it is a **large language model** tha is trained on lots of text data so that it can recognize patterns in language and generate responses.\n",
    "\n",
    "Step by step:\n",
    "1) You give input -- your message is turned into numbers (tokens) that represent words and phrases.\n",
    "2) ChatGPT process it -- it uses a neural network to evaluate what responses make sense.\n",
    "3) ChatGPT generate output -- it predict the next word, then the next, and so on, until I form a full answer."
   ]
  },
  {
   "cell_type": "markdown",
   "id": "cd48ff5c-f934-40cd-be4d-49e306dee7b8",
   "metadata": {},
   "source": [
    "## What I think about ChatGPT as a LLM\n",
    "\n",
    "I believe that ChatGPT is a very useful tool but it has many limitations. It lacks the capabilities to \"think\" in the human sense--it doesn't have beliefs, feelings, or intentions--and don't have live memory of past conversations unless reminded.\n",
    "\n",
    "When taken with a grain of salt, ChatGPT makes a great conversation partner that can expand on your ideas and help you see the bigger picture.\n",
    "\n",
    "Over time, however, large language models will come to hold influence in every aspect of life, in every field or industry."
   ]
  },
  {
   "cell_type": "markdown",
   "id": "e73b695a-eb3e-47c5-8de8-107d12d7cbc2",
   "metadata": {},
   "source": [
    "---"
   ]
  },
  {
   "cell_type": "markdown",
   "id": "91ae5751-078f-4e14-8c7f-16b3ed0bc8ba",
   "metadata": {},
   "source": [
    "Here is an image of ChatGPT that it generated. What does this tell us?"
   ]
  },
  {
   "cell_type": "markdown",
   "id": "7100cd1f-f089-456f-8014-b5f6d32d875e",
   "metadata": {},
   "source": [
    "![](image_of_chat.png)"
   ]
  },
  {
   "cell_type": "markdown",
   "id": "d232a269-a504-4a5e-a033-c0208bfeb984",
   "metadata": {},
   "source": [
    "ChatGPT understands that it is a robot that has the ability to think in a way that is limited by its code."
   ]
  },
  {
   "cell_type": "markdown",
   "id": "bdf4709d-7847-4593-9f49-5f5aa2da6296",
   "metadata": {},
   "source": [
    "I then asked, *\"What decisions did you have to make to create this image\"* and this is how it responded:\n",
    "\n",
    "1) Style → I leaned toward a flat, simple, cartoon-like design because it’s approachable and clear.\n",
    "2) Colors → Neutral beige background with dark blue outlines and white filling to keep it minimalistic and easy to read.\n",
    "3) ymbols → A speech bubble (language/communication), lightbulb (ideas/creativity), and gear (technology/process).\n",
    "4) Character design → A friendly robot figure with a smile, rounded shapes, and a “AI” label to make it recognizable as an AI, not a human."
   ]
  },
  {
   "cell_type": "markdown",
   "id": "4fbe4047-6637-408c-9986-6b20c1c35e1e",
   "metadata": {},
   "source": [
    "Then it said this:\n",
    "\n",
    "> All of these “choices” came from translating your prompt into visual elements that best match what people might imagine when they picture “an AI like me.”\n",
    "\n",
    "Rather, this image is created from people's (or rather, users') image of ChatGPT instead of ChatGPT's self perception.\n",
    "\n",
    "In conclusion, artificial intelligence—especially large language models—act as a mirror of human imagination, there is a gap between function and perception, and the AI identity is co-constructed."
   ]
  }
 ],
 "metadata": {
  "kernelspec": {
   "display_name": "Python 3-12 (COMM4190)",
   "language": "python",
   "name": "python3-12_comm4190"
  },
  "language_info": {
   "codemirror_mode": {
    "name": "ipython",
    "version": 3
   },
   "file_extension": ".py",
   "mimetype": "text/x-python",
   "name": "python",
   "nbconvert_exporter": "python",
   "pygments_lexer": "ipython3",
   "version": "3.12.11"
  }
 },
 "nbformat": 4,
 "nbformat_minor": 5
}
