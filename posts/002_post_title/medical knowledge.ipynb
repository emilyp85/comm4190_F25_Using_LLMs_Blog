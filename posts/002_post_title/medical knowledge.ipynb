{
 "cells": [
  {
   "cell_type": "raw",
   "id": "9d5390a3-93ad-4167-b5c2-319286aa8392",
   "metadata": {},
   "source": [
    "---\n",
    "title: \"Emily's Test\"\n",
    "description: \"Testing Blogging\" \n",
    "author: \"Emily\"\n",
    "date: \"9/3/2025\"\n",
    "categories:\n",
    "  - LLMs\n",
    "  - Learning\n",
    "---"
   ]
  },
  {
   "cell_type": "markdown",
   "id": "9c1f0fb6-ce6c-4b3d-8745-505b81763b08",
   "metadata": {},
   "source": [
    "Testing"
   ]
  }
 ],
 "metadata": {
  "kernelspec": {
   "display_name": "Python 3-12 (COMM4190)",
   "language": "python",
   "name": "python3-12_comm4190"
  },
  "language_info": {
   "codemirror_mode": {
    "name": "ipython",
    "version": 3
   },
   "file_extension": ".py",
   "mimetype": "text/x-python",
   "name": "python",
   "nbconvert_exporter": "python",
   "pygments_lexer": "ipython3",
   "version": "3.12.11"
  }
 },
 "nbformat": 4,
 "nbformat_minor": 5
}
