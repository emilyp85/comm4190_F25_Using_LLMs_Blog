{
 "cells": [
  {
   "cell_type": "raw",
   "id": "c437383f-81c8-40de-b47b-48e218ea53d2",
   "metadata": {},
   "source": [
    "---\n",
    "title: \"Making an Outfit\"\n",
    "description: \"Seeing if ChatGPT can generate an outfit for me\" \n",
    "author: \"Emily\"\n",
    "date: \"9/23/2025\"\n",
    "categories:\n",
    "  - LLMs\n",
    "  - Learning\n",
    "  - Creativity\n",
    "---"
   ]
  },
  {
   "cell_type": "markdown",
   "id": "e249bbf2-6645-4af7-87fe-9f5bc1b38836",
   "metadata": {},
   "source": [
    "The other day, I decided to test whether ChatGPT could style me an outfit. I thought it would be a fun experiment—why not let AI play personal stylist for once? My vibe lately has been minimalist, cute, and a little trendy, so I figured it couldn’t be too hard.\n",
    "\n",
    "# The Prompt\n",
    "I asked ChatGPT to find me an outfit I could wear. This was the prompt: \"Can you generate an outfit for me to wear knowing my styling preferences?\"\n",
    "\n",
    "Seems straightforward, right? Just give me a head-to-toe look and I’ll be on my way.\n",
    "\n",
    "Instead, this was its response: \n",
    "```\n",
    "I can definitely help with that! To style an outfit for you, I’ll need a little more detail first:\n",
    "\n",
    "What’s the occasion? (e.g., casual day out, class, going out at night, professional, formal, etc.)\n",
    "\n",
    "Do you have any styling preferences you’d like me to keep in mind? (e.g., minimalist, trendy, classic, chic, streetwear, bold colors, neutral tones).\n",
    "\n",
    "Any weather or season I should account for?\n",
    "\n",
    "Once I know these, I can build a head-to-toe outfit recommendation (clothes, shoes, accessories), and I can even generate a visual mock-up if you’d like.\n",
    "\n",
    "Want me to put together a test outfit for, say, a casual day on campus?\n",
    "```\n",
    "In other words: not an outfit, just… questions. Basically, my “personal stylist” decided it wanted to interview me before doing its job.\n",
    "\n",
    "So I gave it specifics: a **casual day for class, minimalist but cute and trendy, and weather in the 70s**.\n",
    "\n",
    "I was expecting something similar to these outfits I found off of Pinterest.\n",
    "![](inspo.jpg)\n",
    "\n",
    "![](inspo2.jpg)\n",
    "\n",
    "Anything along the line of casual, minimal, and trendy. And the result?\n",
    "\n",
    "![](outfit.png)\n",
    "\n",
    "I felt disappointed that it kept its response generally broad; I was looking for something more specific—a vision that I can execute!\n",
    "\n",
    "# Why This Was a Miss\n",
    "What I learned is that ChatGPT doesn’t really “see” fashion the way humans do. Style isn’t just about matching weather to clothes. Pinterest or TikTok can deliver that instantly, while ChatGPT still feels like it’s reading from a fashion magazine.\n",
    "\n",
    "To be fair, I might not have been specific enough in my wording. Maybe if I asked, “What should I wear to class on a 70-degree day if I like minimalist looks and trendy sneakers?” the result would’ve been better. But that kind of defeats the fun—I wanted creativity, not a Q&A session.\n",
    "\n",
    "# If I Actually Wore This\n",
    "I tried to imagine showing up to class in ChatGPT’s idea of an outfit. I’d probably look like an NPC in a college campus video game—just generically dressed to “blend in.” Nothing offensive, but nothing that I would like to wear—that I would feel comfortable in.\n",
    "\n",
    "# Final Thoughts\n",
    "ChatGPT lacks creativity, like demonstrated by many of my prior blog posts. It keeps asking me questions when in reality I want it to be more decisive and creative.\n"
   ]
  },
  {
   "cell_type": "code",
   "execution_count": null,
   "id": "07627aa2-71e7-4b3b-9a2b-5610992a6e70",
   "metadata": {},
   "outputs": [],
   "source": []
  }
 ],
 "metadata": {
  "kernelspec": {
   "display_name": "Python 3-12 (COMM4190)",
   "language": "python",
   "name": "python3-12_comm4190"
  },
  "language_info": {
   "codemirror_mode": {
    "name": "ipython",
    "version": 3
   },
   "file_extension": ".py",
   "mimetype": "text/x-python",
   "name": "python",
   "nbconvert_exporter": "python",
   "pygments_lexer": "ipython3",
   "version": "3.12.11"
  }
 },
 "nbformat": 4,
 "nbformat_minor": 5
}
